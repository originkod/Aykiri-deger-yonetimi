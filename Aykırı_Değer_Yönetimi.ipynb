{
  "nbformat": 4,
  "nbformat_minor": 0,
  "metadata": {
    "colab": {
      "provenance": []
    },
    "kernelspec": {
      "name": "python3",
      "display_name": "Python 3"
    },
    "language_info": {
      "name": "python"
    }
  },
  "cells": [
    {
      "cell_type": "code",
      "source": [
        "import pandas as pd\n",
        "import numpy as np\n",
        "\n",
        "# Basit bir öğrenci notları veri seti oluşturalım\n",
        "data = pd.DataFrame({\n",
        "    'Öğrenci İsmi': ['Ali', 'Buse', 'Cem', 'Deniz', 'Eren', 'Feyza', 'Gökhan'],\n",
        "    'Not': [90, 85, 88, 78, 92, 95, 200]  # Aykırı bir not ekleyelim (200)\n",
        "})"
      ],
      "metadata": {
        "id": "Xh7yd0q2qhc8"
      },
      "execution_count": 30,
      "outputs": []
    },
    {
      "cell_type": "code",
      "source": [
        "# Veriyi gösterelim\n",
        "print(\"Veri Seti:\")\n",
        "print(data)\n"
      ],
      "metadata": {
        "colab": {
          "base_uri": "https://localhost:8080/"
        },
        "id": "Tf44_xjM7yN8",
        "outputId": "856c5fa3-20c3-4ab9-c524-2aa274d0c33b"
      },
      "execution_count": 31,
      "outputs": [
        {
          "output_type": "stream",
          "name": "stdout",
          "text": [
            "Veri Seti:\n",
            "  Öğrenci İsmi  Not\n",
            "0          Ali   90\n",
            "1         Buse   85\n",
            "2          Cem   88\n",
            "3        Deniz   78\n",
            "4         Eren   92\n",
            "5        Feyza   95\n",
            "6       Gökhan  200\n"
          ]
        }
      ]
    },
    {
      "cell_type": "code",
      "source": [
        "# Aykırı değerleri bulmak için standart sapma tabanlı bir yöntem kullanalım\n",
        "factor = 1.5  # Aykırı değerleri tanımlamak için kullanacağımız faktörü ayarlayalım\n",
        "upper_limit = data['Not'].mean() + data['Not'].std() * factor\n",
        "lower_limit = data['Not'].mean() - data['Not'].std() * factor\n"
      ],
      "metadata": {
        "id": "5X50mdvT73ZO"
      },
      "execution_count": 32,
      "outputs": []
    },
    {
      "cell_type": "code",
      "source": [
        "# Aykırı değerleri gösterelim\n",
        "outliers = data[(data['Not'] > upper_limit) | (data['Not'] < lower_limit)]\n",
        "print(\"\\nAykırı Değerler:\")\n",
        "print(outliers)\n"
      ],
      "metadata": {
        "colab": {
          "base_uri": "https://localhost:8080/"
        },
        "id": "TKpJRjvW79zk",
        "outputId": "0c08211f-b278-4273-b7d2-13865c261374"
      },
      "execution_count": 33,
      "outputs": [
        {
          "output_type": "stream",
          "name": "stdout",
          "text": [
            "\n",
            "Aykırı Değerler:\n",
            "  Öğrenci İsmi  Not\n",
            "6       Gökhan  200\n"
          ]
        }
      ]
    },
    {
      "cell_type": "code",
      "source": [
        "# Aykırı değerleri veriden kaldıralım\n",
        "data = data[(data['Not'] <= upper_limit) & (data['Not'] >= lower_limit)]\n"
      ],
      "metadata": {
        "id": "1AJduLO38HTz"
      },
      "execution_count": 34,
      "outputs": []
    },
    {
      "cell_type": "code",
      "source": [
        "# Aykırı değerleri kaldırdıktan sonra yeni veriyi gösterelim\n",
        "print(\"\\nAykırı Değerler Kaldırıldıktan Sonraki Veri Seti:\")\n",
        "print(data)"
      ],
      "metadata": {
        "colab": {
          "base_uri": "https://localhost:8080/"
        },
        "id": "YHJe4e2o8Iz5",
        "outputId": "011058d2-bd93-4239-aa65-dcd47ae4adcc"
      },
      "execution_count": 35,
      "outputs": [
        {
          "output_type": "stream",
          "name": "stdout",
          "text": [
            "\n",
            "Aykırı Değerler Kaldırıldıktan Sonraki Veri Seti:\n",
            "  Öğrenci İsmi  Not\n",
            "0          Ali   90\n",
            "1         Buse   85\n",
            "2          Cem   88\n",
            "3        Deniz   78\n",
            "4         Eren   92\n",
            "5        Feyza   95\n"
          ]
        }
      ]
    }
  ]
}